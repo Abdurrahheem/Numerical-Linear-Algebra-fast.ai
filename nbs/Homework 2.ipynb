{
 "cells": [
  {
   "cell_type": "markdown",
   "metadata": {},
   "source": [
    "## Homework 2"
   ]
  },
  {
   "cell_type": "markdown",
   "metadata": {},
   "source": [
    "This homework covers the material in Lessons 3 & 4.  It is due **Thurday, June 15**.  Please submit your **answers as a PDF**."
   ]
  },
  {
   "cell_type": "markdown",
   "metadata": {},
   "source": [
    "1\\. Modify the LU method (without pivoting) to work **in-place**.  That is, it should not allocate any new memory for L or U, but instead overwrite A."
   ]
  },
  {
   "cell_type": "code",
   "execution_count": 7,
   "metadata": {},
   "outputs": [],
   "source": [
    "def LU(A):\n",
    "    U = np.copy(A)\n",
    "    m, n = A.shape\n",
    "    L = np.eye(n)\n",
    "    for k in range(n-1):\n",
    "        for j in range(k+1,n):\n",
    "            L[j,k] = U[j,k]/U[k,k]\n",
    "            U[j,k:n] -= L[j,k] * U[k,k:n]\n",
    "    return L, U"
   ]
  },
  {
   "cell_type": "code",
   "execution_count": 34,
   "metadata": {},
   "outputs": [],
   "source": [
    "def _LU(A):\n",
    "    U = np.copy(A)\n",
    "    m, n = A.shape\n",
    "    for k in range(n-1):\n",
    "        temp = []\n",
    "        for j in range(k+1,n):\n",
    "            temp.append(U[j,k]/U[k,k])\n",
    "            U[j,k:n] -= temp[-1] * U[k,k:n]\n",
    "#         print(temp)\n",
    "        U[k+1:m,k] = temp\n",
    "        \n",
    "    return U"
   ]
  },
  {
   "cell_type": "code",
   "execution_count": 36,
   "metadata": {},
   "outputs": [
    {
     "name": "stderr",
     "output_type": "stream",
     "text": [
      "C:\\Users\\Dell\\Anaconda3\\lib\\site-packages\\ipykernel_launcher.py:7: RuntimeWarning: divide by zero encountered in double_scalars\n",
      "  import sys\n",
      "C:\\Users\\Dell\\Anaconda3\\lib\\site-packages\\ipykernel_launcher.py:8: RuntimeWarning: invalid value encountered in multiply\n",
      "  \n"
     ]
    },
    {
     "data": {
      "text/plain": [
       "(array([[ 1.        ,  0.        ,  0.        ,  0.        ],\n",
       "        [ 4.        ,  1.        ,  0.        ,  0.        ],\n",
       "        [ 7.        ,  2.        ,  1.        ,  0.        ],\n",
       "        [10.        ,  2.33333333,        -inf,  1.        ]]),\n",
       " array([[  1.,   2.,   3.,   5.],\n",
       "        [  0.,  -3.,  -6., -14.],\n",
       "        [  0.,   0.,   0.,   1.],\n",
       "        [  0.,   0.,  nan,  inf]]))"
      ]
     },
     "execution_count": 36,
     "metadata": {},
     "output_type": "execute_result"
    }
   ],
   "source": [
    "import numpy as np \n",
    "\n",
    "A = np.array([[1,2,3,5],\n",
    "              [4,5,6,6],\n",
    "              [7,8,9,8],\n",
    "              [10,13,15,0]]).astype(float)\n",
    "l,u =LU(A)\n",
    "l , u"
   ]
  },
  {
   "cell_type": "code",
   "execution_count": 37,
   "metadata": {},
   "outputs": [
    {
     "name": "stderr",
     "output_type": "stream",
     "text": [
      "C:\\Users\\Dell\\Anaconda3\\lib\\site-packages\\ipykernel_launcher.py:7: RuntimeWarning: divide by zero encountered in double_scalars\n",
      "  import sys\n",
      "C:\\Users\\Dell\\Anaconda3\\lib\\site-packages\\ipykernel_launcher.py:8: RuntimeWarning: invalid value encountered in multiply\n",
      "  \n"
     ]
    },
    {
     "data": {
      "text/plain": [
       "array([[  1.        ,   2.        ,   3.        ,   5.        ],\n",
       "       [  4.        ,  -3.        ,  -6.        , -14.        ],\n",
       "       [  7.        ,   2.        ,   0.        ,   1.        ],\n",
       "       [ 10.        ,   2.33333333,         -inf,          inf]])"
      ]
     },
     "execution_count": 37,
     "metadata": {},
     "output_type": "execute_result"
    }
   ],
   "source": [
    "_LU(A)"
   ]
  },
  {
   "cell_type": "code",
   "execution_count": 31,
   "metadata": {},
   "outputs": [
    {
     "data": {
      "text/plain": [
       "True"
      ]
     },
     "execution_count": 31,
     "metadata": {},
     "output_type": "execute_result"
    }
   ],
   "source": [
    "np.allclose(l - np.diag(np.ones(A.shape[1])) + u, _LU(A))"
   ]
  },
  {
   "cell_type": "markdown",
   "metadata": {},
   "source": [
    "2\\. Modify our LU method from class to add pivoting, as described in the lesson.  *Hint: the swap method below will be useful* "
   ]
  },
  {
   "cell_type": "code",
   "execution_count": null,
   "metadata": {
    "collapsed": true
   },
   "outputs": [],
   "source": [
    "def swap(a,b):\n",
    "    temp = np.copy(a)\n",
    "    a[:] = b\n",
    "    b[:] = temp"
   ]
  },
  {
   "cell_type": "markdown",
   "metadata": {},
   "source": [
    "3\\. For each of the following sets of dimensions, either\n",
    "  - give the dimensions of the output of an operation on A and B, **or** \n",
    "  - answer *incompatible* if the dimensions are incompatible according to the [numpy rules of broadcasting](https://docs.scipy.org/doc/numpy-1.10.0/user/basics.broadcasting.html)."
   ]
  },
  {
   "cell_type": "markdown",
   "metadata": {
    "collapsed": true
   },
   "source": [
    "    a.  A      (2d array):  3 x 3\n",
    "        B      (1d array):      1\n",
    "\n",
    "    b.  A      (2d array):      2 x 1\n",
    "        B      (3d array):  6 x 4 x 2\n",
    "\n",
    "    c.  A      (2d array):  5 x 4\n",
    "        B      (1d array):      4\n",
    "\n",
    "    d.  A      (3d array):  32 x 64 x 8\n",
    "        B      (3d array):   32 x 1 x 8\n",
    "\n",
    "    e.  A      (3d array):       64 x 1\n",
    "        B      (3d array):  32 x 1 x 16\n",
    "\n",
    "    f.  A      (3d array):  32 x 64 x 2\n",
    "        B      (3d array):   32 x 1 x 8"
   ]
  },
  {
   "cell_type": "markdown",
   "metadata": {
    "collapsed": true
   },
   "source": [
    "4\\. Write how this matrix would be stored in compressed row format:\n",
    "\n",
    "\\begin{pmatrix}\n",
    "  1 & & & & -2 & -3 \\\\\n",
    "  & 3 &  & & & -9 \\\\\n",
    "  &  &  & -7 & 4 & \\\\ \n",
    "  -1 & 2 & & 7 & & \\\\\n",
    "  -3 & & & 26 & &\n",
    " \\end{pmatrix}\n",
    " \n",
    "\\begin{bmatrix}\n",
    "index & 0 & 1 & 2 & 3 & 4 & 5 & 6 & 7 & 8 & 9 & 10 & 11 \\\\\n",
    "val & 1 & -2 & -3 & 3 & -9 & -7 & 4 & -1 & 2 & 7 & -3 & 26 \\\\\n",
    "RowPtr & 0 & 3 & 5 & 7 & 10 & 12 & - & - & - & - & - & - \\\\\n",
    "col & 0 & 3 & 4 & 1 & 4 & 2  & 3 & 0 & 1 & 2 & 0 & 2 \\\\\n",
    "\\end{bmatrix}"
   ]
  },
  {
   "cell_type": "code",
   "execution_count": null,
   "metadata": {},
   "outputs": [],
   "source": []
  }
 ],
 "metadata": {
  "kernelspec": {
   "display_name": "Python 3",
   "language": "python",
   "name": "python3"
  },
  "language_info": {
   "codemirror_mode": {
    "name": "ipython",
    "version": 3
   },
   "file_extension": ".py",
   "mimetype": "text/x-python",
   "name": "python",
   "nbconvert_exporter": "python",
   "pygments_lexer": "ipython3",
   "version": "3.7.3"
  },
  "varInspector": {
   "cols": {
    "lenName": 16,
    "lenType": 16,
    "lenVar": 40
   },
   "kernels_config": {
    "python": {
     "delete_cmd_postfix": "",
     "delete_cmd_prefix": "del ",
     "library": "var_list.py",
     "varRefreshCmd": "print(var_dic_list())"
    },
    "r": {
     "delete_cmd_postfix": ") ",
     "delete_cmd_prefix": "rm(",
     "library": "var_list.r",
     "varRefreshCmd": "cat(var_dic_list()) "
    }
   },
   "types_to_exclude": [
    "module",
    "function",
    "builtin_function_or_method",
    "instance",
    "_Feature"
   ],
   "window_display": false
  }
 },
 "nbformat": 4,
 "nbformat_minor": 2
}
